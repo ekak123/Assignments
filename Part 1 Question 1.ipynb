{
 "cells": [
  {
   "cell_type": "markdown",
   "id": "8af4bf1e",
   "metadata": {},
   "source": [
    "### Q1 : Write a regex to extract all the numbers with orange color background from the below text in italics.\n",
    "{\"orders\":[{\"id\":1},{\"id\":2},{\"id\":3},{\"id\":4},{\"id\":5},{\"id\":6},{\"id\":7},{\"id\":8},{\"id\":9},{\"id\":10},{\"id\":11},{\"id\":648},{\"id\":649},{\"id\":650},{\"id\":651},{\"id\":652},{\"id\":653}],\"errors\":[{\"code\":3,\"message\":\"[PHP Warning #2] count(): Parameter must be an array or an object that implements Countable (153)\"}]}\n"
   ]
  },
  {
   "cell_type": "markdown",
   "id": "ad35052a",
   "metadata": {},
   "source": [
    "## Importing Relevant libraries"
   ]
  },
  {
   "cell_type": "code",
   "execution_count": 1,
   "id": "86c821f0",
   "metadata": {},
   "outputs": [],
   "source": [
    "import pandas as pd\n",
    "import re"
   ]
  },
  {
   "cell_type": "code",
   "execution_count": 7,
   "id": "30eca3d3",
   "metadata": {},
   "outputs": [],
   "source": [
    "part_of_string = {\"orders\":[{\"id\":1},{\"id\":2},{\"id\":3},{\"id\":4},{\"id\":5},\n",
    "                            {\"id\":6},{\"id\":7},{\"id\":8},{\"id\":9},{\"id\":10},{\"id\":11},{\"id\":648},{\"id\":649},\n",
    "                            {\"id\":650},{\"id\":651},{\"id\":652},{\"id\":653}],\n",
    "                  \"errors\":[{\"code\":3,\n",
    "            \"message\":\"[PHP Warning #2] count():Parameter must be an array or an object that implements Countable (153)\"}]}"
   ]
  },
  {
   "cell_type": "code",
   "execution_count": 8,
   "id": "8a962d0d",
   "metadata": {},
   "outputs": [],
   "source": [
    "numbs = re.findall(r'\\s[0-9]+' , str(part_of_string))"
   ]
  },
  {
   "cell_type": "code",
   "execution_count": 9,
   "id": "3ed0bf99",
   "metadata": {},
   "outputs": [
    {
     "data": {
      "text/plain": [
       "[' 1',\n",
       " ' 2',\n",
       " ' 3',\n",
       " ' 4',\n",
       " ' 5',\n",
       " ' 6',\n",
       " ' 7',\n",
       " ' 8',\n",
       " ' 9',\n",
       " ' 10',\n",
       " ' 11',\n",
       " ' 648',\n",
       " ' 649',\n",
       " ' 650',\n",
       " ' 651',\n",
       " ' 652',\n",
       " ' 653',\n",
       " ' 3']"
      ]
     },
     "execution_count": 9,
     "metadata": {},
     "output_type": "execute_result"
    }
   ],
   "source": [
    "numbs"
   ]
  },
  {
   "cell_type": "code",
   "execution_count": 10,
   "id": "af447fac",
   "metadata": {},
   "outputs": [
    {
     "name": "stdout",
     "output_type": "stream",
     "text": [
      "[' 1', ' 2', ' 3', ' 4', ' 5', ' 6', ' 7', ' 8', ' 9', ' 10', ' 11', ' 648', ' 649', ' 650', ' 651', ' 652', ' 653', ' 3']\n"
     ]
    }
   ],
   "source": [
    "print(numbs)"
   ]
  },
  {
   "cell_type": "code",
   "execution_count": null,
   "id": "88eeb32a",
   "metadata": {},
   "outputs": [],
   "source": []
  }
 ],
 "metadata": {
  "kernelspec": {
   "display_name": "Python 3 (ipykernel)",
   "language": "python",
   "name": "python3"
  },
  "language_info": {
   "codemirror_mode": {
    "name": "ipython",
    "version": 3
   },
   "file_extension": ".py",
   "mimetype": "text/x-python",
   "name": "python",
   "nbconvert_exporter": "python",
   "pygments_lexer": "ipython3",
   "version": "3.10.4"
  }
 },
 "nbformat": 4,
 "nbformat_minor": 5
}
