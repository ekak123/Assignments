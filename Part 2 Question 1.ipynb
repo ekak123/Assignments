{
 "cells": [
  {
   "cell_type": "code",
   "execution_count": 1,
   "id": "f5703151",
   "metadata": {},
   "outputs": [],
   "source": [
    "import numpy as np\n",
    "import pandas as pd\n",
    "\n",
    "import language_tool_python as lt\n",
    "from textblob import TextBlob\n",
    "tool = lt.LanguageToolPublicAPI('en-US')"
   ]
  },
  {
   "cell_type": "markdown",
   "id": "052c7dc3",
   "metadata": {},
   "source": [
    "## Load the Data"
   ]
  },
  {
   "cell_type": "code",
   "execution_count": 2,
   "id": "aba40106",
   "metadata": {},
   "outputs": [
    {
     "data": {
      "text/html": [
       "<div>\n",
       "<style scoped>\n",
       "    .dataframe tbody tr th:only-of-type {\n",
       "        vertical-align: middle;\n",
       "    }\n",
       "\n",
       "    .dataframe tbody tr th {\n",
       "        vertical-align: top;\n",
       "    }\n",
       "\n",
       "    .dataframe thead th {\n",
       "        text-align: right;\n",
       "    }\n",
       "</style>\n",
       "<table border=\"1\" class=\"dataframe\">\n",
       "  <thead>\n",
       "    <tr style=\"text-align: right;\">\n",
       "      <th></th>\n",
       "      <th>text</th>\n",
       "      <th>star</th>\n",
       "      <th>app_id</th>\n",
       "      <th>reviewDate</th>\n",
       "    </tr>\n",
       "  </thead>\n",
       "  <tbody>\n",
       "    <tr>\n",
       "      <th>0</th>\n",
       "      <td>Anathi Khanyile</td>\n",
       "      <td>5</td>\n",
       "      <td>com.fingersoft.hillclimb</td>\n",
       "      <td>18/03/21</td>\n",
       "    </tr>\n",
       "    <tr>\n",
       "      <th>1</th>\n",
       "      <td>Tony bahut funny hai Hill climbing racing my f...</td>\n",
       "      <td>5</td>\n",
       "      <td>com.fingersoft.hillclimb</td>\n",
       "      <td>18/03/21</td>\n",
       "    </tr>\n",
       "    <tr>\n",
       "      <th>2</th>\n",
       "      <td>Teturwu</td>\n",
       "      <td>1</td>\n",
       "      <td>com.fingersoft.hillclimb</td>\n",
       "      <td>18/03/21</td>\n",
       "    </tr>\n",
       "    <tr>\n",
       "      <th>3</th>\n",
       "      <td>Hoooooooooooyaaaaaaaaa what a game hoooooooooo...</td>\n",
       "      <td>5</td>\n",
       "      <td>com.fingersoft.hillclimb</td>\n",
       "      <td>18/03/21</td>\n",
       "    </tr>\n",
       "    <tr>\n",
       "      <th>4</th>\n",
       "      <td>This game is nice</td>\n",
       "      <td>5</td>\n",
       "      <td>com.fingersoft.hillclimb</td>\n",
       "      <td>18/03/21</td>\n",
       "    </tr>\n",
       "  </tbody>\n",
       "</table>\n",
       "</div>"
      ],
      "text/plain": [
       "                                                text  star  \\\n",
       "0                                    Anathi Khanyile     5   \n",
       "1  Tony bahut funny hai Hill climbing racing my f...     5   \n",
       "2                                            Teturwu     1   \n",
       "3  Hoooooooooooyaaaaaaaaa what a game hoooooooooo...     5   \n",
       "4                                  This game is nice     5   \n",
       "\n",
       "                     app_id reviewDate  \n",
       "0  com.fingersoft.hillclimb   18/03/21  \n",
       "1  com.fingersoft.hillclimb   18/03/21  \n",
       "2  com.fingersoft.hillclimb   18/03/21  \n",
       "3  com.fingersoft.hillclimb   18/03/21  \n",
       "4  com.fingersoft.hillclimb   18/03/21  "
      ]
     },
     "execution_count": 2,
     "metadata": {},
     "output_type": "execute_result"
    }
   ],
   "source": [
    "data = pd.read_csv('review_data.csv')\n",
    "data.head()"
   ]
  },
  {
   "cell_type": "code",
   "execution_count": 3,
   "id": "b5a07021",
   "metadata": {},
   "outputs": [
    {
     "data": {
      "text/html": [
       "<div>\n",
       "<style scoped>\n",
       "    .dataframe tbody tr th:only-of-type {\n",
       "        vertical-align: middle;\n",
       "    }\n",
       "\n",
       "    .dataframe tbody tr th {\n",
       "        vertical-align: top;\n",
       "    }\n",
       "\n",
       "    .dataframe thead th {\n",
       "        text-align: right;\n",
       "    }\n",
       "</style>\n",
       "<table border=\"1\" class=\"dataframe\">\n",
       "  <thead>\n",
       "    <tr style=\"text-align: right;\">\n",
       "      <th></th>\n",
       "      <th>text</th>\n",
       "    </tr>\n",
       "  </thead>\n",
       "  <tbody>\n",
       "    <tr>\n",
       "      <th>0</th>\n",
       "      <td>Anathi Khanyile</td>\n",
       "    </tr>\n",
       "    <tr>\n",
       "      <th>1</th>\n",
       "      <td>Tony bahut funny hai Hill climbing racing my f...</td>\n",
       "    </tr>\n",
       "    <tr>\n",
       "      <th>2</th>\n",
       "      <td>Teturwu</td>\n",
       "    </tr>\n",
       "    <tr>\n",
       "      <th>3</th>\n",
       "      <td>Hoooooooooooyaaaaaaaaa what a game hoooooooooo...</td>\n",
       "    </tr>\n",
       "    <tr>\n",
       "      <th>4</th>\n",
       "      <td>This game is nice</td>\n",
       "    </tr>\n",
       "  </tbody>\n",
       "</table>\n",
       "</div>"
      ],
      "text/plain": [
       "                                                text\n",
       "0                                    Anathi Khanyile\n",
       "1  Tony bahut funny hai Hill climbing racing my f...\n",
       "2                                            Teturwu\n",
       "3  Hoooooooooooyaaaaaaaaa what a game hoooooooooo...\n",
       "4                                  This game is nice"
      ]
     },
     "execution_count": 3,
     "metadata": {},
     "output_type": "execute_result"
    }
   ],
   "source": [
    "data_1 = data[['text']]\n",
    "data_1.head()"
   ]
  },
  {
   "cell_type": "code",
   "execution_count": 18,
   "id": "568790a0",
   "metadata": {},
   "outputs": [],
   "source": [
    "def check_grammar_spelling(data):\n",
    "    i = 0\n",
    "    for line in data:\n",
    "        match = tool.check(line)\n",
    "        t = TextBlob(str(match))\n",
    "        i = i + len(t)\n",
    "        if i > 0:\n",
    "            return \"Incorrect\"\n",
    "        else:\n",
    "            return \"Correct\""
   ]
  },
  {
   "cell_type": "code",
   "execution_count": 19,
   "id": "cbf7baa1",
   "metadata": {},
   "outputs": [],
   "source": [
    "mistakes = check_grammar_spelling(data_1.text)"
   ]
  },
  {
   "cell_type": "code",
   "execution_count": 20,
   "id": "1e041396",
   "metadata": {},
   "outputs": [
    {
     "name": "stderr",
     "output_type": "stream",
     "text": [
      "C:\\Users\\admin\\AppData\\Local\\Temp\\ipykernel_2380\\2373889594.py:1: SettingWithCopyWarning: \n",
      "A value is trying to be set on a copy of a slice from a DataFrame.\n",
      "Try using .loc[row_indexer,col_indexer] = value instead\n",
      "\n",
      "See the caveats in the documentation: https://pandas.pydata.org/pandas-docs/stable/user_guide/indexing.html#returning-a-view-versus-a-copy\n",
      "  data_1['Grammar'] = mistakes\n"
     ]
    },
    {
     "data": {
      "text/html": [
       "<div>\n",
       "<style scoped>\n",
       "    .dataframe tbody tr th:only-of-type {\n",
       "        vertical-align: middle;\n",
       "    }\n",
       "\n",
       "    .dataframe tbody tr th {\n",
       "        vertical-align: top;\n",
       "    }\n",
       "\n",
       "    .dataframe thead th {\n",
       "        text-align: right;\n",
       "    }\n",
       "</style>\n",
       "<table border=\"1\" class=\"dataframe\">\n",
       "  <thead>\n",
       "    <tr style=\"text-align: right;\">\n",
       "      <th></th>\n",
       "      <th>text</th>\n",
       "      <th>Grammar</th>\n",
       "      <th>Corrected_Text</th>\n",
       "    </tr>\n",
       "  </thead>\n",
       "  <tbody>\n",
       "    <tr>\n",
       "      <th>0</th>\n",
       "      <td>Anathi Khanyile</td>\n",
       "      <td>Incorrect</td>\n",
       "      <td>Anathi Khanyile</td>\n",
       "    </tr>\n",
       "    <tr>\n",
       "      <th>1</th>\n",
       "      <td>Tony bahut funny hai Hill climbing racing my f...</td>\n",
       "      <td>Incorrect</td>\n",
       "      <td>Tony bahut funny hai Hill climbing racing my f...</td>\n",
       "    </tr>\n",
       "    <tr>\n",
       "      <th>2</th>\n",
       "      <td>Teturwu</td>\n",
       "      <td>Incorrect</td>\n",
       "      <td>Teturwu</td>\n",
       "    </tr>\n",
       "    <tr>\n",
       "      <th>3</th>\n",
       "      <td>Hoooooooooooyaaaaaaaaa what a game hoooooooooo...</td>\n",
       "      <td>Incorrect</td>\n",
       "      <td>Hoooooooooooyaaaaaaaaa what a game hoooooooooo...</td>\n",
       "    </tr>\n",
       "    <tr>\n",
       "      <th>4</th>\n",
       "      <td>This game is nice</td>\n",
       "      <td>Incorrect</td>\n",
       "      <td>This game is nice</td>\n",
       "    </tr>\n",
       "  </tbody>\n",
       "</table>\n",
       "</div>"
      ],
      "text/plain": [
       "                                                text    Grammar  \\\n",
       "0                                    Anathi Khanyile  Incorrect   \n",
       "1  Tony bahut funny hai Hill climbing racing my f...  Incorrect   \n",
       "2                                            Teturwu  Incorrect   \n",
       "3  Hoooooooooooyaaaaaaaaa what a game hoooooooooo...  Incorrect   \n",
       "4                                  This game is nice  Incorrect   \n",
       "\n",
       "                                      Corrected_Text  \n",
       "0                                    Anathi Khanyile  \n",
       "1  Tony bahut funny hai Hill climbing racing my f...  \n",
       "2                                            Teturwu  \n",
       "3  Hoooooooooooyaaaaaaaaa what a game hoooooooooo...  \n",
       "4                                  This game is nice  "
      ]
     },
     "execution_count": 20,
     "metadata": {},
     "output_type": "execute_result"
    }
   ],
   "source": [
    "data_1['Grammar'] = mistakes\n",
    "data_1.head()"
   ]
  },
  {
   "cell_type": "code",
   "execution_count": 21,
   "id": "3eda7485",
   "metadata": {},
   "outputs": [],
   "source": [
    "def spelling(text):\n",
    "    try:\n",
    "        text = tool.correct(text)\n",
    "        b = TextBlob(text)\n",
    "        return str(b.correct())\n",
    "    except:\n",
    "        return text"
   ]
  },
  {
   "cell_type": "code",
   "execution_count": 22,
   "id": "36c010bf",
   "metadata": {},
   "outputs": [],
   "source": [
    "correct = spelling(data_1.text)"
   ]
  },
  {
   "cell_type": "code",
   "execution_count": 15,
   "id": "6fb2a4be",
   "metadata": {},
   "outputs": [
    {
     "name": "stderr",
     "output_type": "stream",
     "text": [
      "C:\\Users\\admin\\AppData\\Local\\Temp\\ipykernel_2380\\70833210.py:1: SettingWithCopyWarning: \n",
      "A value is trying to be set on a copy of a slice from a DataFrame.\n",
      "Try using .loc[row_indexer,col_indexer] = value instead\n",
      "\n",
      "See the caveats in the documentation: https://pandas.pydata.org/pandas-docs/stable/user_guide/indexing.html#returning-a-view-versus-a-copy\n",
      "  data_1['Corrected_Text'] = correct\n"
     ]
    },
    {
     "data": {
      "text/html": [
       "<div>\n",
       "<style scoped>\n",
       "    .dataframe tbody tr th:only-of-type {\n",
       "        vertical-align: middle;\n",
       "    }\n",
       "\n",
       "    .dataframe tbody tr th {\n",
       "        vertical-align: top;\n",
       "    }\n",
       "\n",
       "    .dataframe thead th {\n",
       "        text-align: right;\n",
       "    }\n",
       "</style>\n",
       "<table border=\"1\" class=\"dataframe\">\n",
       "  <thead>\n",
       "    <tr style=\"text-align: right;\">\n",
       "      <th></th>\n",
       "      <th>text</th>\n",
       "      <th>Grammar</th>\n",
       "      <th>Corrected_Text</th>\n",
       "    </tr>\n",
       "  </thead>\n",
       "  <tbody>\n",
       "    <tr>\n",
       "      <th>0</th>\n",
       "      <td>Anathi Khanyile</td>\n",
       "      <td>Incorrect</td>\n",
       "      <td>Anathi Khanyile</td>\n",
       "    </tr>\n",
       "    <tr>\n",
       "      <th>1</th>\n",
       "      <td>Tony bahut funny hai Hill climbing racing my f...</td>\n",
       "      <td>Incorrect</td>\n",
       "      <td>Tony bahut funny hai Hill climbing racing my f...</td>\n",
       "    </tr>\n",
       "    <tr>\n",
       "      <th>2</th>\n",
       "      <td>Teturwu</td>\n",
       "      <td>Incorrect</td>\n",
       "      <td>Teturwu</td>\n",
       "    </tr>\n",
       "    <tr>\n",
       "      <th>3</th>\n",
       "      <td>Hoooooooooooyaaaaaaaaa what a game hoooooooooo...</td>\n",
       "      <td>Incorrect</td>\n",
       "      <td>Hoooooooooooyaaaaaaaaa what a game hoooooooooo...</td>\n",
       "    </tr>\n",
       "    <tr>\n",
       "      <th>4</th>\n",
       "      <td>This game is nice</td>\n",
       "      <td>Incorrect</td>\n",
       "      <td>This game is nice</td>\n",
       "    </tr>\n",
       "  </tbody>\n",
       "</table>\n",
       "</div>"
      ],
      "text/plain": [
       "                                                text    Grammar  \\\n",
       "0                                    Anathi Khanyile  Incorrect   \n",
       "1  Tony bahut funny hai Hill climbing racing my f...  Incorrect   \n",
       "2                                            Teturwu  Incorrect   \n",
       "3  Hoooooooooooyaaaaaaaaa what a game hoooooooooo...  Incorrect   \n",
       "4                                  This game is nice  Incorrect   \n",
       "\n",
       "                                      Corrected_Text  \n",
       "0                                    Anathi Khanyile  \n",
       "1  Tony bahut funny hai Hill climbing racing my f...  \n",
       "2                                            Teturwu  \n",
       "3  Hoooooooooooyaaaaaaaaa what a game hoooooooooo...  \n",
       "4                                  This game is nice  "
      ]
     },
     "execution_count": 15,
     "metadata": {},
     "output_type": "execute_result"
    }
   ],
   "source": [
    "data_1['Corrected_Text'] = correct\n",
    "data_1.head()"
   ]
  }
 ],
 "metadata": {
  "kernelspec": {
   "display_name": "Python 3 (ipykernel)",
   "language": "python",
   "name": "python3"
  },
  "language_info": {
   "codemirror_mode": {
    "name": "ipython",
    "version": 3
   },
   "file_extension": ".py",
   "mimetype": "text/x-python",
   "name": "python",
   "nbconvert_exporter": "python",
   "pygments_lexer": "ipython3",
   "version": "3.10.4"
  }
 },
 "nbformat": 4,
 "nbformat_minor": 5
}
