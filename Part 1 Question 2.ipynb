{
 "cells": [
  {
   "cell_type": "markdown",
   "id": "45fdfbee",
   "metadata": {},
   "source": [
    "## Q2 Problem statement - There are times when a user writes Good, Nice App or any other positive text, in the review and gives 1-star rating. Your goal is to identify the reviews where the semantics of review text does not match rating. \n"
   ]
  },
  {
   "cell_type": "markdown",
   "id": "5c782e16",
   "metadata": {},
   "source": [
    "### Import Relevant libraries"
   ]
  },
  {
   "cell_type": "code",
   "execution_count": 1,
   "id": "1b2c78fb",
   "metadata": {},
   "outputs": [
    {
     "name": "stderr",
     "output_type": "stream",
     "text": [
      "[nltk_data] Downloading package stopwords to\n",
      "[nltk_data]     C:\\Users\\esha.kak\\AppData\\Roaming\\nltk_data...\n",
      "[nltk_data]   Package stopwords is already up-to-date!\n"
     ]
    }
   ],
   "source": [
    "import pandas as pd\n",
    "import matplotlib.pyplot as plt\n",
    "import nltk\n",
    "import re\n",
    "from sklearn.linear_model import LinearRegression\n",
    "import streamlit as st\n",
    "import pickle\n",
    "from pickle import dump\n",
    "from pickle import load\n",
    "import textblob\n",
    "\n",
    "nltk.download('stopwords')\n",
    "from nltk.corpus import stopwords\n",
    "from nltk.stem.porter import PorterStemmer"
   ]
  },
  {
   "cell_type": "code",
   "execution_count": 2,
   "id": "6294692b",
   "metadata": {},
   "outputs": [
    {
     "name": "stderr",
     "output_type": "stream",
     "text": [
      "2022-07-05 21:17:58.122 \n",
      "  \u001b[33m\u001b[1mWarning:\u001b[0m to view this Streamlit app on a browser, run it with the following\n",
      "  command:\n",
      "\n",
      "    streamlit run C:\\Users\\esha.kak\\.conda\\envs\\py3-TF2.0\\lib\\site-packages\\ipykernel_launcher.py [ARGUMENTS]\n"
     ]
    },
    {
     "data": {
      "text/plain": [
       "DeltaGenerator(_root_container=1, _provided_cursor=None, _parent=DeltaGenerator(_root_container=0, _provided_cursor=None, _parent=None, _block_type=None, _form_data=None), _block_type=None, _form_data=None)"
      ]
     },
     "execution_count": 2,
     "metadata": {},
     "output_type": "execute_result"
    }
   ],
   "source": [
    "st.title('Analysing User Reviews')\n",
    "st.sidebar.header('Please see the Instructions')\n",
    "\n",
    "st.sidebar.markdown(\"1. The column name should be **Review/Text** \")\n",
    "st.sidebar.markdown(\"2. The column of Rating should be **Ratings**\")\n",
    "st.sidebar.markdown(\"3. Rating should be 0to5\")"
   ]
  },
  {
   "cell_type": "code",
   "execution_count": 3,
   "id": "72145f75",
   "metadata": {},
   "outputs": [],
   "source": [
    "ps = PorterStemmer()"
   ]
  },
  {
   "cell_type": "code",
   "execution_count": 4,
   "id": "6050d501",
   "metadata": {},
   "outputs": [],
   "source": [
    "all_stpwords = stopwords.words('english')\n",
    "all_stpwords.remove('not')"
   ]
  },
  {
   "cell_type": "code",
   "execution_count": 5,
   "id": "fb928065",
   "metadata": {},
   "outputs": [],
   "source": [
    "def text_cleaned(text):\n",
    "    clean = re.sub('[^a-zA-Z]', \" \" , text)\n",
    "    clean = clean.lower()\n",
    "    clean.split()\n",
    "    clean = [port.stem(word) for word in clean if word not in all_stpwords] \n",
    "    clean = ' '.join(clean)\n",
    "    return clean"
   ]
  },
  {
   "cell_type": "code",
   "execution_count": 6,
   "id": "b972fc32",
   "metadata": {},
   "outputs": [
    {
     "data": {
      "text/plain": [
       "DeltaGenerator(_root_container=0, _provided_cursor=None, _parent=None, _block_type=None, _form_data=None)"
      ]
     },
     "execution_count": 6,
     "metadata": {},
     "output_type": "execute_result"
    }
   ],
   "source": [
    "st.title(\"Identifying the Reviews\")"
   ]
  },
  {
   "cell_type": "code",
   "execution_count": 7,
   "id": "730e24dc",
   "metadata": {},
   "outputs": [],
   "source": [
    "uploaded_file = st.file_uploader('Select a file')"
   ]
  },
  {
   "cell_type": "code",
   "execution_count": 8,
   "id": "8ccf51de",
   "metadata": {},
   "outputs": [],
   "source": [
    "data = pd.read_csv('chrome_reviews.csv')\n",
    "st.write(data)"
   ]
  },
  {
   "cell_type": "code",
   "execution_count": 9,
   "id": "1c8ac9d3",
   "metadata": {},
   "outputs": [],
   "source": [
    "if st.button(\"Click for Results\") :\n",
    "    data[\"Cleaned_data\"] = data[\"Text\"].apply(lambda x: text_cleaned(str(x)))\n",
    "\n",
    "    sid = SentimentIntensityAnalyzer()\n",
    "\n",
    "    data[\"sentiments_vader\"] = data[\"Text_cleaned\"].apply(lambda x:sid.polarity_scores(x))\n",
    "    data[\"Vader_Compound_Score\"]  = data['sentiments_vader'].apply(lambda score_dict: score_dict['compound'])\n",
    "    data[\"Result\"] = data[\"Vader_Compound_Score\"].apply(lambda c: \n",
    "                                                        'positive' if c > 0 else ('negative' if c < 0 else 'neutral'))\n",
    "    st.bar_chart(data.Result.value_counts())\n",
    "\n",
    "    data_positive = data[(data.Result == \"positive\")]\n",
    "    data_positive[\"Opinion_Positive\"] = data_positive[\"Star\"].apply(lambda star: \n",
    "                                                                    \"No Attention Needed\" if star >= 3 \n",
    "                                                                    else \"Attention Needed\")\n",
    "    st.bar_chart(data_positive.Opinion_Positive.value_counts())\n",
    "\n",
    "    data = data_positive\n",
    "\n",
    "    st.download_button(\n",
    "        label=\"Download data as CSV\",\n",
    "        df=data.to_csv().encode(\"utf-8\"),\n",
    "        file_name='data.csv',\n",
    "        mime='text/csv',\n",
    "    )"
   ]
  },
  {
   "cell_type": "code",
   "execution_count": null,
   "id": "d3c6485a",
   "metadata": {},
   "outputs": [],
   "source": []
  }
 ],
 "metadata": {
  "kernelspec": {
   "display_name": "Python 3 (ipykernel)",
   "language": "python",
   "name": "python3"
  },
  "language_info": {
   "codemirror_mode": {
    "name": "ipython",
    "version": 3
   },
   "file_extension": ".py",
   "mimetype": "text/x-python",
   "name": "python",
   "nbconvert_exporter": "python",
   "pygments_lexer": "ipython3",
   "version": "3.10.4"
  }
 },
 "nbformat": 4,
 "nbformat_minor": 5
}
